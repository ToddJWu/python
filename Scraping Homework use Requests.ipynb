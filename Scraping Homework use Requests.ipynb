{
  "cells": [
    {
      "cell_type": "code",
      "execution_count": 44,
      "metadata": {
        "id": "JUn0yBwtIOEE"
      },
      "outputs": [],
      "source": [
        "# pip install beautifulsoup4 lxml requests selenium webdriver-manager fake-useragent tika pyautogui opencv-python opencv-contrib-python keyboard"
      ]
    },
    {
      "cell_type": "code",
      "execution_count": 45,
      "metadata": {
        "id": "892zVL9SK-Jx"
      },
      "outputs": [],
      "source": [
        "import requests as req\n",
        "from bs4 import BeautifulSoup as bs\n",
        "import re\n",
        "import os"
      ]
    },
    {
      "cell_type": "code",
      "execution_count": 46,
      "metadata": {
        "id": "O6G3WUNnehc1"
      },
      "outputs": [],
      "source": [
        "url = \"https://www.gutenberg.org/browse/languages/zh\"\n",
        "\n",
        "rep = req.get(url)\n",
        "\n",
        "soup = bs(rep.text,\"lxml\")"
      ]
    },
    {
      "cell_type": "code",
      "execution_count": 47,
      "metadata": {
        "id": "CdShrttDe288"
      },
      "outputs": [],
      "source": [
        "titles = soup.select(\"li.pgdbetext > a\", limit=300)"
      ]
    },
    {
      "cell_type": "code",
      "execution_count": 48,
      "metadata": {
        "id": "KONQULEcfuXE"
      },
      "outputs": [],
      "source": [
        "bookNames = []\n",
        "bookURLs = []\n",
        "for name in titles:\n",
        "  if re.search(r\"[\\u4E00-\\u9FFF]+\", name.get_text()) != None:\n",
        "    bookNames.append(name.get_text())\n",
        "    bookURLs.append(\"https://www.gutenberg.org\" + name[\"href\"])"
      ]
    },
    {
      "cell_type": "code",
      "execution_count": 49,
      "metadata": {
        "colab": {
          "base_uri": "https://localhost:8080/"
        },
        "id": "mVUD8biFJugg",
        "outputId": "0b31c562-953b-4520-f6eb-29de4b742961"
      },
      "outputs": [
        {
          "data": {
            "text/plain": [
              "275"
            ]
          },
          "execution_count": 49,
          "metadata": {},
          "output_type": "execute_result"
        }
      ],
      "source": [
        "len(bookNames)"
      ]
    },
    {
      "cell_type": "code",
      "execution_count": 50,
      "metadata": {
        "id": "iELpczbvlpc5"
      },
      "outputs": [],
      "source": [
        "textURLs = []\n",
        "for url in bookURLs:\n",
        "  rep = req.get(url)\n",
        "  match = re.search(r\"https.+\\.txt\", rep.text)\n",
        "  textURLs.append(match[0])  "
      ]
    },
    {
      "cell_type": "code",
      "execution_count": 51,
      "metadata": {
        "id": "lxdVb1AFFEEB"
      },
      "outputs": [],
      "source": [
        "filePath = \"Bookshelf\"\n",
        "if not os.path.exists(filePath):\n",
        "    os.mkdir(filePath)"
      ]
    },
    {
      "cell_type": "code",
      "execution_count": 52,
      "metadata": {
        "colab": {
          "base_uri": "https://localhost:8080/"
        },
        "id": "u67kKp8ooRjz",
        "outputId": "e4ccf113-4546-497f-eb51-9f874b2f102f"
      },
      "outputs": [
        {
          "name": "stdout",
          "output_type": "stream",
          "text": [
            "201\n"
          ]
        }
      ],
      "source": [
        "for index, url in enumerate(textURLs):\n",
        "  rep = req.get(url)\n",
        "  rep.encoding = \"UTF-8\"\n",
        "  soup = bs(rep.text,\"lxml\")\n",
        "  p = soup.select_one(\"p\")\n",
        "  texts = re.findall(\"\\W?[\\u4E00-\\u9FFF]+\\W?\", p.get_text())\n",
        "\n",
        "  for text in texts:\n",
        "    with open(f\"{filePath}/{bookNames[index]}.txt\", \"a\") as f:\n",
        "      f.write(text)\n",
        "\n",
        "  lst = os.listdir(filePath)\n",
        "  if len(lst) > 200:\n",
        "    print(len(lst))\n",
        "    break"
      ]
    }
  ],
  "metadata": {
    "colab": {
      "provenance": []
    },
    "kernelspec": {
      "display_name": "Python 3.9.6 64-bit",
      "language": "python",
      "name": "python3"
    },
    "language_info": {
      "name": "python",
      "version": "3.9.6"
    },
    "vscode": {
      "interpreter": {
        "hash": "31f2aee4e71d21fbe5cf8b01ff0e069b9275f58929596ceb00d14d90e3e16cd6"
      }
    }
  },
  "nbformat": 4,
  "nbformat_minor": 0
}

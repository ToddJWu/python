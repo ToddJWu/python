{
  "nbformat": 4,
  "nbformat_minor": 0,
  "metadata": {
    "colab": {
      "provenance": []
    },
    "kernelspec": {
      "name": "python3",
      "display_name": "Python 3"
    },
    "language_info": {
      "name": "python"
    }
  },
  "cells": [
    {
      "cell_type": "code",
      "execution_count": 44,
      "metadata": {
        "id": "JUn0yBwtIOEE"
      },
      "outputs": [],
      "source": [
        "# pip install beautifulsoup4 lxml requests selenium webdriver-manager fake-useragent tika pyautogui opencv-python opencv-contrib-python keyboard"
      ]
    },
    {
      "cell_type": "code",
      "source": [
        "import requests as req\n",
        "from bs4 import BeautifulSoup as bs\n",
        "import re\n",
        "import os"
      ],
      "metadata": {
        "id": "892zVL9SK-Jx"
      },
      "execution_count": 45,
      "outputs": []
    },
    {
      "cell_type": "code",
      "source": [
        "url = \"https://www.gutenberg.org/browse/languages/zh\"\n",
        "\n",
        "rep = req.get(url)\n",
        "\n",
        "soup = bs(rep.text,\"lxml\")"
      ],
      "metadata": {
        "id": "O6G3WUNnehc1"
      },
      "execution_count": 46,
      "outputs": []
    },
    {
      "cell_type": "code",
      "source": [
        "titles = soup.select(\"li.pgdbetext > a\", limit=300)"
      ],
      "metadata": {
        "id": "CdShrttDe288"
      },
      "execution_count": 47,
      "outputs": []
    },
    {
      "cell_type": "code",
      "source": [
        "bookNames = []\n",
        "bookURLs = []\n",
        "for name in titles:\n",
        "  if re.search(r\"[\\u4E00-\\u9FFF]+\", name.get_text()) != None:\n",
        "    bookNames.append(name.get_text())\n",
        "    bookURLs.append(\"https://www.gutenberg.org\" + name[\"href\"])"
      ],
      "metadata": {
        "id": "KONQULEcfuXE"
      },
      "execution_count": 48,
      "outputs": []
    },
    {
      "cell_type": "code",
      "source": [
        "len(bookNames)"
      ],
      "metadata": {
        "colab": {
          "base_uri": "https://localhost:8080/"
        },
        "id": "mVUD8biFJugg",
        "outputId": "0b31c562-953b-4520-f6eb-29de4b742961"
      },
      "execution_count": 49,
      "outputs": [
        {
          "output_type": "execute_result",
          "data": {
            "text/plain": [
              "275"
            ]
          },
          "metadata": {},
          "execution_count": 49
        }
      ]
    },
    {
      "cell_type": "code",
      "source": [
        "textURLs = []\n",
        "for url in bookURLs:\n",
        "  rep = req.get(url)\n",
        "  match = re.search(r\"https.+\\.txt\", rep.text)\n",
        "  textURLs.append(match[0])  "
      ],
      "metadata": {
        "id": "iELpczbvlpc5"
      },
      "execution_count": 50,
      "outputs": []
    },
    {
      "cell_type": "code",
      "source": [
        "filePath = \"Bookshelf\"\n",
        "if not os.path.exists(filePath):\n",
        "    os.mkdir(filePath)"
      ],
      "metadata": {
        "id": "lxdVb1AFFEEB"
      },
      "execution_count": 51,
      "outputs": []
    },
    {
      "cell_type": "code",
      "source": [
        "for index, url in enumerate(textURLs):\n",
        "  rep = req.get(url)\n",
        "  rep.encoding = \"UTF-8\"\n",
        "  soup = bs(rep.text,\"lxml\")\n",
        "  p = soup.select_one(\"p\")\n",
        "  texts = re.findall(\"\\W?[\\u4E00-\\u9FFF]+\\W?\", p.get_text())\n",
        "\n",
        "  for text in texts:\n",
        "    with open(f\"{filePath}/{bookNames[index]}.txt\", \"a\") as f:\n",
        "      f.write(text)\n",
        "\n",
        "  lst = os.listdir(filePath)\n",
        "  if len(lst) > 200:\n",
        "    print(len(lst))\n",
        "    break"
      ],
      "metadata": {
        "colab": {
          "base_uri": "https://localhost:8080/"
        },
        "id": "u67kKp8ooRjz",
        "outputId": "e4ccf113-4546-497f-eb51-9f874b2f102f"
      },
      "execution_count": 52,
      "outputs": [
        {
          "output_type": "stream",
          "name": "stdout",
          "text": [
            "201\n"
          ]
        }
      ]
    }
  ]
}
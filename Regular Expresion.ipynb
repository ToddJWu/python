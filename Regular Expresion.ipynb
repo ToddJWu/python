{
 "cells": [
  {
   "cell_type": "code",
   "execution_count": 1,
   "id": "c24b4313",
   "metadata": {},
   "outputs": [],
   "source": [
    "import re"
   ]
  },
  {
   "cell_type": "code",
   "execution_count": 9,
   "id": "f6493e32",
   "metadata": {},
   "outputs": [
    {
     "name": "stdout",
     "output_type": "stream",
     "text": [
      "<re.Match object; span=(0, 10), match='A123456789'>\n",
      "A123456789\n",
      "123456789\n"
     ]
    }
   ],
   "source": [
    "# search\n",
    "regex01 = r\"[a-zA-Z]([12])(\\d{8})\"\n",
    "string01 = \"A123456789, S299888777\"\n",
    "match01 = re.search(regex01,string01)\n",
    "print(match01)\n",
    "print(match01[0])\n",
    "print(match01[1]+match01[2])"
   ]
  },
  {
   "cell_type": "code",
   "execution_count": 13,
   "id": "61193426",
   "metadata": {},
   "outputs": [
    {
     "name": "stdout",
     "output_type": "stream",
     "text": [
      "[('09', '11111111'), ('09', '22222222'), ('09', '33333333')]\n",
      "09\n"
     ]
    }
   ],
   "source": [
    "# fingall\n",
    "regex02 = r'([0-9]{2})([0-9]+)'\n",
    "string02 = \"0911111111, 0922222222, 0933333333\"\n",
    "listMatch02 = re.findall(regex02, string02)\n",
    "print(listMatch02)\n",
    "print(listMatch02[1][0])"
   ]
  },
  {
   "cell_type": "code",
   "execution_count": 25,
   "id": "29ca6d22",
   "metadata": {},
   "outputs": [
    {
     "name": "stdout",
     "output_type": "stream",
     "text": [
      "0911111111\n",
      "09\n",
      "11111111\n",
      "0922222222\n",
      "09\n",
      "22222222\n",
      "0933333333\n",
      "09\n",
      "33333333\n"
     ]
    }
   ],
   "source": [
    "# finditer\n",
    "regex03 = r'([0-9]{2})([0-9]+)'\n",
    "string03 = \"0911111111, 0922222222, 0933333333\"\n",
    "iterableMatch03 = re.finditer(regex03, string03)\n",
    "if iterableMatch03 != None:\n",
    "    for match in iterableMatch03:\n",
    "        print(match[0])\n",
    "        print(match[1])\n",
    "        print(match[2])"
   ]
  },
  {
   "cell_type": "code",
   "execution_count": 4,
   "id": "d4c17992",
   "metadata": {},
   "outputs": [
    {
     "name": "stdout",
     "output_type": "stream",
     "text": [
      "<re.Match object; span=(0, 8), match='2022/1/2'>\n",
      "2022/1/2\n",
      "1\n"
     ]
    }
   ],
   "source": [
    "regex04 = r'2[0-9]{3}\\/([0]?[1-9]\\b|[1]\\d)\\/([0]?[1-9]\\b|[12]\\d\\b|3[01]\\b)'\n",
    "string04 = \"2022/1/2\"\n",
    "match04 = re.match(regex04, string04)\n",
    "print(match04)\n",
    "print(match04[0])\n",
    "print(match04[1])"
   ]
  },
  {
   "cell_type": "code",
   "execution_count": null,
   "id": "c4caa22b",
   "metadata": {},
   "outputs": [],
   "source": [
    "# split\n",
    "string06 = \"One1Two2Three3Four4\""
   ]
  }
 ],
 "metadata": {
  "kernelspec": {
   "display_name": "Python 3 (ipykernel)",
   "language": "python",
   "name": "python3"
  },
  "language_info": {
   "codemirror_mode": {
    "name": "ipython",
    "version": 3
   },
   "file_extension": ".py",
   "mimetype": "text/x-python",
   "name": "python",
   "nbconvert_exporter": "python",
   "pygments_lexer": "ipython3",
   "version": "3.9.12"
  }
 },
 "nbformat": 4,
 "nbformat_minor": 5
}

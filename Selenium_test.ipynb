{
  "cells": [
    {
      "cell_type": "code",
      "execution_count": null,
      "metadata": {
        "id": "qUi9JjmniYWD"
      },
      "outputs": [],
      "source": [
        "# !pip install selenium webdriver_manager"
      ]
    },
    {
      "cell_type": "code",
      "execution_count": null,
      "metadata": {
        "id": "tIsmogSS3b4Q"
      },
      "outputs": [],
      "source": [
        "# 操作 browser 的 API\n",
        "from selenium.webdriver.chrome.service import Service\n",
        "from selenium import webdriver\n",
        "\n",
        "# 處理逾時例外的工具\n",
        "from selenium.common.exceptions import TimeoutException\n",
        "\n",
        "# 面對動態網頁，等待某個元素出現的工具，通常與 exptected_conditions 搭配\n",
        "from selenium.webdriver.support.ui import WebDriverWait\n",
        "\n",
        "# 搭配 WebDriverWait 使用，對元素狀態的一種期待條件，若條件發生，則等待結束，往下一行執行\n",
        "from selenium.webdriver.support import expected_conditions as EC\n",
        "\n",
        "# 期待元素出現要透過什麼方式指定，通常與 EC、WebDriverWait 一起使用\n",
        "from selenium.webdriver.common.by import By\n",
        "\n",
        "# 加入行為鍊 ActionChain (在 WebDriver 中模擬滑鼠移動、點繫、拖曳、按右鍵出現選單，以及鍵盤輸入文字、按下鍵盤上的按鈕等)\n",
        "from selenium.webdriver.common.action_chains import ActionChains\n",
        "\n",
        "# 強制等待 (執行期間休息一下)\n",
        "import time \n",
        "\n",
        "# 整理 json 使用的工具\n",
        "import json\n",
        "\n",
        "# 執行 command 的時候用的\n",
        "import os\n",
        "\n",
        "import re\n",
        "\n",
        "import shutil\n",
        "\n",
        "from webdriver_manager.chrome import ChromeDriverManager"
      ]
    },
    {
      "cell_type": "code",
      "execution_count": null,
      "metadata": {
        "id": "xnCk2hMv2FzS"
      },
      "outputs": [],
      "source": [
        "options = webdriver.ChromeOptions()\n",
        "options.add_argument('--headless')\n",
        "options.add_argument('--no-sandbox')\n",
        "options.add_argument('--disable-dev-shm-usage')\n",
        "\n",
        "# Service(executable_path=ChromeDriverManager().install())\n",
        "\n",
        "driver = webdriver.Chrome(options=options)\n",
        "# driver = webdriver.Chrome('chromedriver',options=options)"
      ]
    },
    {
      "cell_type": "code",
      "execution_count": null,
      "metadata": {
        "colab": {
          "base_uri": "https://localhost:8080/"
        },
        "id": "ff92792c",
        "outputId": "d16d550b-5888-472e-8c6f-d4f58dc87e4c"
      },
      "outputs": [
        {
          "name": "stdout",
          "output_type": "stream",
          "text": [
            "Initializing File\n",
            "Removing Old File...\n",
            "Creating New File...\n"
          ]
        }
      ],
      "source": [
        "filePath = \"Bookshelf_Selenium\"\n",
        "print(\"Initializing File\")\n",
        "if os.path.exists(filePath):\n",
        "    print(\"Removing Old File...\")\n",
        "    shutil.rmtree(filePath)\n",
        "\n",
        "    print(\"Creating New File...\")\n",
        "    os.mkdir(filePath)\n",
        "else:\n",
        "    print(\"Creating New File...\")\n",
        "    os.mkdir(filePath)"
      ]
    },
    {
      "cell_type": "code",
      "execution_count": null,
      "metadata": {
        "id": "a0965917"
      },
      "outputs": [],
      "source": [
        "driver.get(\"https://www.gutenberg.org/browse/languages/zh\")"
      ]
    },
    {
      "cell_type": "code",
      "execution_count": null,
      "metadata": {
        "id": "4331c813"
      },
      "outputs": [],
      "source": [
        "try:\n",
        "    titles = WebDriverWait(driver, 5).until(\n",
        "        EC.presence_of_all_elements_located(\n",
        "                (By.CSS_SELECTOR, \"li.pgdbetext > a\")\n",
        "            )\n",
        "    )\n",
        "except TimeoutException:\n",
        "    print(\"Books Meun Page 等待逾時!\")"
      ]
    },
    {
      "cell_type": "code",
      "execution_count": null,
      "metadata": {
        "id": "22a14692"
      },
      "outputs": [],
      "source": [
        "books = [ title.text for title in titles if re.search(r\"[\\u4E00-\\u9FFF]+\", title.text) != None]\n",
        "# books = []\n",
        "# for title in titles:\n",
        "#     if re.search(r\"[\\u4E00-\\u9FFF]+\", title.text) != None:\n",
        "#         books.append(title.text)"
      ]
    },
    {
      "cell_type": "code",
      "execution_count": null,
      "metadata": {
        "colab": {
          "base_uri": "https://localhost:8080/"
        },
        "id": "ff60d06f",
        "outputId": "c65b93d9-ca3a-405c-c3dd-97a82cb54c3e"
      },
      "outputs": [
        {
          "data": {
            "text/plain": [
              "478"
            ]
          },
          "execution_count": 8,
          "metadata": {},
          "output_type": "execute_result"
        }
      ],
      "source": [
        "len(books)"
      ]
    },
    {
      "cell_type": "code",
      "execution_count": null,
      "metadata": {
        "id": "9deeb4ac"
      },
      "outputs": [],
      "source": [
        "# 建立行為鍊\n",
        "ac = ActionChains(driver)"
      ]
    },
    {
      "cell_type": "code",
      "execution_count": null,
      "metadata": {
        "id": "d9328c28"
      },
      "outputs": [],
      "source": [
        "for name in books:\n",
        "    try:\n",
        "        # book_name = WebDriverWait(driver, 5).until(\n",
        "        WebDriverWait(driver, 5).until(\n",
        "            EC.presence_of_element_located(\n",
        "                (By.LINK_TEXT, name)\n",
        "            )\n",
        "        ).click()\n",
        "        # ac.click(book_name).perform()\n",
        "        # book_name.click()\n",
        "        \n",
        "    except TimeoutException:\n",
        "        print(\"Books Meun Page 等待逾時!\")\n",
        "\n",
        "    try:\n",
        "        # txt = WebDriverWait(driver, 5).until(\n",
        "        WebDriverWait(driver, 5).until(\n",
        "            EC.presence_of_element_located(\n",
        "                (By.LINK_TEXT, \"Plain Text UTF-8\")\n",
        "            )\n",
        "        ).click()\n",
        "        # ac.click(txt).perform()\n",
        "        # txt.click()\n",
        "        \n",
        "    except TimeoutException:\n",
        "        print(\"Select Download Sources Page 等待逾時!\")\n",
        "        \n",
        "    try:\n",
        "        texts = WebDriverWait(driver, 5).until(\n",
        "            EC.presence_of_element_located(\n",
        "            (By.TAG_NAME, \"pre\")\n",
        "            )\n",
        "        )\n",
        "        contents = re.findall(\"[\\u4E00-\\u9FFF]+[\\W]+\", texts.text)\n",
        "        \n",
        "    except TimeoutException:\n",
        "        print(\"Source Page 等待逾時!\")\n",
        "    \n",
        "    name_ = re.sub(r\"\\s\", \" \", name)\n",
        "    with open(f\"{filePath}/{name_}.txt\", \"a\") as f:\n",
        "        f.write(\" \".join(contents))\n",
        "    \n",
        "    lst = os.listdir(filePath)\n",
        "    if len(lst) > 200:\n",
        "        break\n",
        "        \n",
        "    driver.get(\"https://www.gutenberg.org/browse/languages/zh\")"
      ]
    }
  ],
  "metadata": {
    "colab": {
      "provenance": []
    },
    "kernelspec": {
      "display_name": "Python 3.9.12 ('base')",
      "language": "python",
      "name": "python3"
    },
    "language_info": {
      "name": "python",
      "version": "3.9.12"
    },
    "vscode": {
      "interpreter": {
        "hash": "260f019dbdd165b2a66e5fc9588a8f81e21ca9655b1d8c64e54a883dbdaf6a75"
      }
    }
  },
  "nbformat": 4,
  "nbformat_minor": 0
}

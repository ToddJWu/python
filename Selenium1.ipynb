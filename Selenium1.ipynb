{
 "cells": [
  {
   "cell_type": "code",
   "execution_count": 2,
   "id": "85e7802b",
   "metadata": {},
   "outputs": [],
   "source": [
    "'''\n",
    "參考網頁:\n",
    "[1] 下載 Chrome Web Driver\n",
    "https://chromedriver.chromium.org/downloads\n",
    "[2] Webdriver Manager for Python\n",
    "https://github.com/SergeyPirogov/webdriver_manager\n",
    "'''\n",
    "\n",
    "# 操作 browser 的 API\n",
    "from selenium.webdriver.chrome.service import Service\n",
    "from selenium import webdriver\n",
    "\n",
    "# 匯入套件\n",
    "from bs4 import BeautifulSoup as bs\n",
    "\n",
    "# 強制等待 (執行期間休息一下)\n",
    "from time import sleep"
   ]
  },
  {
   "cell_type": "code",
   "execution_count": 7,
   "id": "388a8ce9",
   "metadata": {},
   "outputs": [
    {
     "name": "stdout",
     "output_type": "stream",
     "text": [
      "\n",
      "          新聞\n",
      "           專家觀點 專題 \n",
      "          社群\n",
      "           活動 課程 雜誌 Podcast \n"
     ]
    }
   ],
   "source": [
    "# 使用 Web Driver\n",
    "service = Service(executable_path=\"./chromedriver.exe\")\n",
    "driver = webdriver.Chrome(service=service)\n",
    "\n",
    "driver.get(\"https://www.bnext.com.tw/\")\n",
    "\n",
    "html = driver.page_source\n",
    "\n",
    "soup = bs(html, \"lxml\")\n",
    "\n",
    "div = soup.select_one(\"div.center.block-large-show\")\n",
    "\n",
    "print(div.get_text())\n",
    "\n",
    "sleep(3)\n",
    "\n",
    "driver.quit()"
   ]
  },
  {
   "cell_type": "code",
   "execution_count": null,
   "id": "223902c8",
   "metadata": {},
   "outputs": [],
   "source": []
  }
 ],
 "metadata": {
  "kernelspec": {
   "display_name": "Python 3 (ipykernel)",
   "language": "python",
   "name": "python3"
  },
  "language_info": {
   "codemirror_mode": {
    "name": "ipython",
    "version": 3
   },
   "file_extension": ".py",
   "mimetype": "text/x-python",
   "name": "python",
   "nbconvert_exporter": "python",
   "pygments_lexer": "ipython3",
   "version": "3.9.12"
  }
 },
 "nbformat": 4,
 "nbformat_minor": 5
}

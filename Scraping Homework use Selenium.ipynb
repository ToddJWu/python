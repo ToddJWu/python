{
 "cells": [
  {
   "cell_type": "code",
   "execution_count": 81,
   "id": "6ada2105",
   "metadata": {},
   "outputs": [],
   "source": [
    "'''\n",
    "匯入套件\n",
    "'''\n",
    "# 操作 browser 的 API\n",
    "from selenium.webdriver.chrome.service import Service\n",
    "from selenium import webdriver\n",
    "\n",
    "# 處理逾時例外的工具\n",
    "from selenium.common.exceptions import TimeoutException\n",
    "\n",
    "# 面對動態網頁，等待某個元素出現的工具，通常與 exptected_conditions 搭配\n",
    "from selenium.webdriver.support.ui import WebDriverWait\n",
    "\n",
    "# 搭配 WebDriverWait 使用，對元素狀態的一種期待條件，若條件發生，則等待結束，往下一行執行\n",
    "from selenium.webdriver.support import expected_conditions as EC\n",
    "\n",
    "# 期待元素出現要透過什麼方式指定，通常與 EC、WebDriverWait 一起使用\n",
    "from selenium.webdriver.common.by import By\n",
    "\n",
    "# 加入行為鍊 ActionChain (在 WebDriver 中模擬滑鼠移動、點繫、拖曳、按右鍵出現選單，以及鍵盤輸入文字、按下鍵盤上的按鈕等)\n",
    "from selenium.webdriver.common.action_chains import ActionChains\n",
    "\n",
    "# 強制等待 (執行期間休息一下)\n",
    "from time import sleep\n",
    "\n",
    "# 整理 json 使用的工具\n",
    "import json\n",
    "\n",
    "# 執行 command 的時候用的\n",
    "import os\n",
    "\n",
    "import re"
   ]
  },
  {
   "cell_type": "code",
   "execution_count": 82,
   "id": "7da0a7d0",
   "metadata": {},
   "outputs": [],
   "source": [
    "'''\n",
    "selenium 啓動 Chrome 的進階配置參數\n",
    "參考網址：https://stackoverflow.max-everyday.com/2019/12/selenium-chrome-options/\n",
    "'''\n",
    "# 啟動瀏覽器工具的選項\n",
    "my_options = webdriver.ChromeOptions()\n",
    "my_options.add_argument(\"--headless\")                #不開啟實體瀏覽器背景執行\n",
    "# my_options.add_argument(\"--start-maximized\")         #最大化視窗\n",
    "my_options.add_argument(\"--incognito\")               #開啟無痕模式\n",
    "my_options.add_argument(\"--disable-popup-blocking\") #禁用彈出攔截\n",
    "my_options.add_argument(\"--disable-notifications\")  #取消 chrome 推播通知\n",
    "my_options.add_argument(\"--lang=zh-TW\")  #設定為正體中文\n",
    "\n",
    "\n",
    "# 使用 Chrome 的 WebDriver\n",
    "driver = webdriver.Chrome(\n",
    "    options = my_options,\n",
    "    service = Service(executable_path=\"./chromedriver.exe\")\n",
    ")"
   ]
  },
  {
   "cell_type": "code",
   "execution_count": 83,
   "id": "ff92792c",
   "metadata": {},
   "outputs": [],
   "source": [
    "filePath = \"Bookshelf_Selenium\"\n",
    "if not os.path.exists(filePath):\n",
    "    os.mkdir(filePath)"
   ]
  },
  {
   "cell_type": "code",
   "execution_count": 84,
   "id": "a0965917",
   "metadata": {},
   "outputs": [],
   "source": [
    "driver.get(\"https://www.gutenberg.org/browse/languages/zh\")"
   ]
  },
  {
   "cell_type": "code",
   "execution_count": 85,
   "id": "00254e36",
   "metadata": {},
   "outputs": [],
   "source": [
    "# books = []\n",
    "# titles = driver.find_elements(By.CSS_SELECTOR, \"li.pgdbetext > a\")\n",
    "\n",
    "# for title in titles:\n",
    "#     if re.search(r\"[\\u4E00-\\u9FFF]+\", title.text) != None:\n",
    "#         books.append({\"Name\": title.text,\"URL\": title.get_attribute('href'),\"location\": title.location})"
   ]
  },
  {
   "cell_type": "code",
   "execution_count": 86,
   "id": "4331c813",
   "metadata": {},
   "outputs": [],
   "source": [
    "try:\n",
    "    WebDriverWait(driver, 5).until(\n",
    "        EC.presence_of_element_located(\n",
    "                (By.CSS_SELECTOR, \"li.pgdbetext > a\")\n",
    "            )\n",
    "    )\n",
    "    titles = driver.find_elements(By.CSS_SELECTOR, \"li.pgdbetext > a\")\n",
    "except TimeoutException:\n",
    "    print(\"Page Books 等待逾時!\")"
   ]
  },
  {
   "cell_type": "code",
   "execution_count": 87,
   "id": "22a14692",
   "metadata": {},
   "outputs": [],
   "source": [
    "books = []\n",
    "for title in titles:\n",
    "    if re.search(r\"[\\u4E00-\\u9FFF]+\", title.text) != None:\n",
    "        books.append(title.text)"
   ]
  },
  {
   "cell_type": "code",
   "execution_count": 88,
   "id": "ff60d06f",
   "metadata": {},
   "outputs": [
    {
     "data": {
      "text/plain": [
       "478"
      ]
     },
     "execution_count": 88,
     "metadata": {},
     "output_type": "execute_result"
    }
   ],
   "source": [
    "len(books)"
   ]
  },
  {
   "cell_type": "code",
   "execution_count": 89,
   "id": "9deeb4ac",
   "metadata": {},
   "outputs": [],
   "source": [
    "# 建立行為鍊\n",
    "ac = ActionChains(driver)"
   ]
  },
  {
   "cell_type": "code",
   "execution_count": 90,
   "id": "d9328c28",
   "metadata": {},
   "outputs": [],
   "source": [
    "for name in books:\n",
    "    try:\n",
    "        WebDriverWait(driver, 5).until(\n",
    "#             EC.title_is(\"Browse By Language: Chinese | Project Gutenberg\"\n",
    "            EC.presence_of_element_located(\n",
    "                (By.CSS_SELECTOR, \"li.pgdbetext > a\")\n",
    "            )\n",
    "        ) \n",
    "        book_name = driver.find_element(By.LINK_TEXT, name)\n",
    "        ac.click(book_name).perform()\n",
    "        \n",
    "    except TimeoutException:\n",
    "        print(\"Page Books 等待逾時!\")\n",
    "\n",
    "    try:\n",
    "        WebDriverWait(driver, 5).until(\n",
    "            EC.presence_of_element_located(\n",
    "                (By.LINK_TEXT, \"Plain Text UTF-8\")\n",
    "            )\n",
    "        )     \n",
    "        txt = driver.find_element(By.LINK_TEXT, \"Plain Text UTF-8\")\n",
    "        ac.click(txt).perform()\n",
    "        \n",
    "    except TimeoutException:\n",
    "        print(\"Page Select Sources 等待逾時!\")\n",
    "        \n",
    "    try:\n",
    "        WebDriverWait(driver, 5).until(\n",
    "            EC.presence_of_element_located(\n",
    "            (By.TAG_NAME, \"pre\")\n",
    "            )\n",
    "        )\n",
    "        texts = driver.find_element(By.TAG_NAME, \"pre\")\n",
    "        contents = re.findall(\"[\\u4E00-\\u9FFF]+[\\W]+\", texts.text)\n",
    "        \n",
    "    except TimeoutException:\n",
    "        print(\"Page Source 等待逾時!\")\n",
    "    \n",
    "#     name_ = re.sub(r\"\\s\", \" \", name)\n",
    "    with open(f\"{filePath}/{re.sub(r'\\s', ' ', name)}.txt\", \"ab\") as f:\n",
    "        f.write(\" \".join(contents).encode(\"UTF-8\"))\n",
    "    \n",
    "    lst = os.listdir(filePath)\n",
    "    if len(lst) > 100:\n",
    "        break\n",
    "        \n",
    "    driver.get(\"https://www.gutenberg.org/browse/languages/zh\")"
   ]
  }
 ],
 "metadata": {
  "kernelspec": {
   "display_name": "Python 3.9.6 64-bit",
   "language": "python",
   "name": "python3"
  },
  "language_info": {
   "codemirror_mode": {
    "name": "ipython",
    "version": 3
   },
   "file_extension": ".py",
   "mimetype": "text/x-python",
   "name": "python",
   "nbconvert_exporter": "python",
   "pygments_lexer": "ipython3",
   "version": "3.9.6"
  },
  "vscode": {
   "interpreter": {
    "hash": "31f2aee4e71d21fbe5cf8b01ff0e069b9275f58929596ceb00d14d90e3e16cd6"
   }
  }
 },
 "nbformat": 4,
 "nbformat_minor": 5
}

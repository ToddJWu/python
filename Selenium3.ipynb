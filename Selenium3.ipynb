{
 "cells": [
  {
   "cell_type": "code",
   "execution_count": 2,
   "id": "7044605b",
   "metadata": {},
   "outputs": [],
   "source": [
    "'''\n",
    "參考網址:\n",
    "[1] Webdriver Manager for Python\n",
    "https://pypi.org/project/webdriver-manager/\n",
    "'''\n",
    "\n",
    "# 匯入套件\n",
    "from selenium import webdriver\n",
    "from selenium.webdriver.chrome.service import Service\n",
    "from webdriver_manager.chrome import ChromeDriverManager\n",
    "from selenium.common.exceptions import TimeoutException, NoSuchElementException\n",
    "from selenium.webdriver.support.ui import WebDriverWait\n",
    "from selenium.webdriver.support import expected_conditions as EC\n",
    "from selenium.webdriver.common.by import By\n",
    "from time import sleep"
   ]
  },
  {
   "cell_type": "code",
   "execution_count": 3,
   "id": "aec916fc",
   "metadata": {},
   "outputs": [
    {
     "name": "stderr",
     "output_type": "stream",
     "text": [
      "[WDM] - Downloading: 100%|████████████████████████████████████████████████████████| 6.29M/6.29M [00:00<00:00, 25.8MB/s]\n"
     ]
    },
    {
     "name": "stdout",
     "output_type": "stream",
     "text": [
      "https://www.google.com.tw/\n"
     ]
    }
   ],
   "source": [
    "# 自動取得 Chrome 的 WebDriver\n",
    "driver = webdriver.Chrome(\n",
    "    service = Service(ChromeDriverManager().install())\n",
    ")\n",
    "\n",
    "try:\n",
    "    driver.get(\"https://www.google.com.tw/\")\n",
    "    \n",
    "    sleep(3)\n",
    "    \n",
    "    print(driver.current_url)\n",
    "except:\n",
    "    print(\"Someting Went Wrong!\")\n",
    "finally:\n",
    "    driver.quit()"
   ]
  },
  {
   "cell_type": "code",
   "execution_count": 5,
   "id": "f1ec17c7",
   "metadata": {},
   "outputs": [
    {
     "name": "stdout",
     "output_type": "stream",
     "text": [
      "Someting Went Wrong!\n"
     ]
    }
   ],
   "source": [
    "# 自動取得 Chrome 的 WebDriver\n",
    "driver = webdriver.Chrome(\n",
    "    service = Service(ChromeDriverManager().install())\n",
    ")\n",
    "\n",
    "try:\n",
    "    driver.implicitly_wait(10)\n",
    "    \n",
    "    driver.get(\"https://www.google.com.tw/\")\n",
    "    \n",
    "    # 錯誤 CSS_SELECTOR\n",
    "    elm = driver.find_element(By.CSS_SELECTOR, \"input.RNmpXc0\")\n",
    "#     elm = driver.find_element(By.CSS_SELECTOR, \"input.RNmpXc\")\n",
    "    \n",
    "    print(elm.get_attribute(\"value\"))\n",
    "except NoSuchElementException:\n",
    "    print(\"Can't Find Element!\")\n",
    "finally:\n",
    "    driver.quit()"
   ]
  },
  {
   "cell_type": "code",
   "execution_count": 7,
   "id": "8dc7c6a2",
   "metadata": {},
   "outputs": [
    {
     "name": "stdout",
     "output_type": "stream",
     "text": [
      "https://www.youtube.com/\n"
     ]
    }
   ],
   "source": [
    "# 自動取得 Chrome 的 WebDriver\n",
    "driver = webdriver.Chrome(\n",
    "    service = Service(ChromeDriverManager().install())\n",
    ")\n",
    "\n",
    "try:\n",
    "    # 走訪網址\n",
    "    driver.get('https://www.youtube.com/?gl=TW')\n",
    "    \n",
    "    homepage = WebDriverWait(driver, 10).until(\n",
    "        EC.presence_of_element_located(\n",
    "            (By.LINK_TEXT, \"首頁\")\n",
    "        )\n",
    "    )\n",
    "\n",
    "    print(homepage.get_attribute(\"href\"))\n",
    "except TimeoutException:\n",
    "    print('Time Out！')\n",
    "finally:\n",
    "    # 關閉瀏覽器\n",
    "    driver.quit()"
   ]
  }
 ],
 "metadata": {
  "kernelspec": {
   "display_name": "Python 3 (ipykernel)",
   "language": "python",
   "name": "python3"
  },
  "language_info": {
   "codemirror_mode": {
    "name": "ipython",
    "version": 3
   },
   "file_extension": ".py",
   "mimetype": "text/x-python",
   "name": "python",
   "nbconvert_exporter": "python",
   "pygments_lexer": "ipython3",
   "version": "3.9.12"
  }
 },
 "nbformat": 4,
 "nbformat_minor": 5
}
